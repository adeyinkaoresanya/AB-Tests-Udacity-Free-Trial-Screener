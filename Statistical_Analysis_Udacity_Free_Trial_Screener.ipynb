{
 "cells": [
  {
   "cell_type": "markdown",
   "metadata": {},
   "source": [
    "# Statistical Analysis of A/B Experiment on Udacity Free Trial Screener\n",
    "\n",
    "## Author: Adeyinka J. Oresanya"
   ]
  },
  {
   "cell_type": "markdown",
   "metadata": {
    "id": "12MVaNLVwsEW"
   },
   "source": [
    "---------"
   ]
  },
  {
   "cell_type": "markdown",
   "metadata": {
    "id": "cjYMuRr0wyWV"
   },
   "source": [
    "# **Introduction**\n",
    "\n",
    "### **Experiment Overview**"
   ]
  },
  {
   "cell_type": "markdown",
   "metadata": {
    "id": "3034viSsxBN0"
   },
   "source": [
    "Udacity tested a change on their website where if a potential student clicked the \"Start Free Trial\" button on the Course Overview page, they were asked how much time they had available to devote to the course. If the student indicated 5 or more hours per week, they would be taken through the checkout process as usual. If they selected fewer than 5 hours per week, a message would appear informing them that Udacity courses usually require a greater time commitment for successful completion and suggesting that the student might like to access the course materials for free. At this point, the student would have the option either to continue enrolling in the free trial, or access the course materials for free instead. The overall business objective for this new feature is to increase the likelihood that students who continue past the free trial will make payments and complete their courses.\n",
    "\n",
    "The aim of this project is to conduct statistical analysis on the data gathered from the A/B experiment to determine whether there was a significant change caused by the Free Trial Screener and to provide recommendation whether or not to launch this feature.\n",
    "\n",
    "### Hypothesis\n",
    "\n",
    "Free trial screener will reduce the number of students who leave the free trial because of lack of time and increase the likelihood of students who continue past the free trial to eventually make payments and complete the course.\n",
    "\n"
   ]
  },
  {
   "cell_type": "markdown",
   "metadata": {
    "id": "NVMqXWMXxGIt"
   },
   "source": [
    "*H0: There is no significant difference between students who went through the free trial screener and those who did not.*\n",
    "\n",
    "*Ha: There is a significant difference between students who went through the free trial screener and those who did not.*"
   ]
  },
  {
   "cell_type": "markdown",
   "metadata": {},
   "source": [
    "## Datasets\n",
    "\n",
    "\n",
    "The datasets used are available [here](https://docs.google.com/spreadsheets/d/1Mu5u9GrybDdska-ljPXyBjTpdZIUev_6i7t4LRDfXM8/edit#gid=0)\n",
    "\n",
    "\n"
   ]
  },
  {
   "cell_type": "markdown",
   "metadata": {
    "id": "78Zq6Wk2yu9R"
   },
   "source": [
    "    ## **Selected Metrics**\n",
    "\n",
    "\n",
    "\n",
    "    *   **Click-through rate:** This is the number of clicks divided by the number of pageviews. For this experiment, this metric will not move because it can not distinguish the outcomes of the Free Trial Screener between the experiment and control groups, as clicks happened before the Screener popped up. Thus, it will be useful as an invariant metric for checking that the experiment is robust for A/B testing.\n",
    "\n",
    "\n",
    "    *   **Retention:** This is the number of users to remain enrolled past the 14-day boundary (and thus make at least one payment) divided by the number of enrolled students. This metric is expected to increase for the experiment group given that the number of students who go ahead with the free trial reduces without reducing the number of students who are enrolled past 14 days.\n",
    "\n",
    "\n",
    "    *   **Gross conversion:** This is the number of enrolled users divided by the number of clicks. It is assumed that this metric will decrease for the experiment group because the number of enrollments is expected to decrease after answering the Screener question, given  that those who indicated 'Fewer than 5 hours per week' will not be encouraged to enroll.\n",
    "\n",
    "\n",
    "    *   **Net conversion:** This is the number of users to remain enrolled past the 14-day boundary (and thus make at least one payment) divided by number of clicks. This metric is also expected to increase for the experiment group "
   ]
  },
  {
   "cell_type": "code",
   "execution_count": 1,
   "metadata": {
    "id": "y8Z33khV3CrX"
   },
   "outputs": [],
   "source": [
    "import numpy as np\n",
    "import pandas as pd\n",
    "import scipy.stats as stats\n",
    "from statsmodels.stats.proportion import proportions_ztest"
   ]
  },
  {
   "cell_type": "code",
   "execution_count": 2,
   "metadata": {
    "id": "B3reHHnB3qZM"
   },
   "outputs": [],
   "source": [
    "control =  pd.read_csv('Control.csv')\n",
    "\n",
    "experiment = pd.read_csv('Experiment.csv')\n"
   ]
  },
  {
   "cell_type": "code",
   "execution_count": 3,
   "metadata": {
    "id": "QYE21mKf30CQ"
   },
   "outputs": [],
   "source": [
    "data = pd.merge(control, experiment, on= 'Date', how = 'inner')"
   ]
  },
  {
   "cell_type": "markdown",
   "metadata": {
    "id": "t2QdGTCE7fLu"
   },
   "source": [
    "## **95% confidence interval on click-through rate**"
   ]
  },
  {
   "cell_type": "code",
   "execution_count": 4,
   "metadata": {
    "colab": {
     "base_uri": "https://localhost:8080/"
    },
    "id": "er3tqTlkFq3B",
    "outputId": "a19cd973-8e4c-475d-e979-854c912d3665"
   },
   "outputs": [
    {
     "name": "stdout",
     "output_type": "stream",
     "text": [
      "The confidence interval is between -0.0012 and 0.0014\n"
     ]
    }
   ],
   "source": [
    "def confidence_interval(x1, x2, n1, n2):\n",
    "  '''\n",
    "  Returns the upper and lower bounds of the confidence interval for the difference between two proportions\n",
    "\n",
    "  Parameters\n",
    "  ----------\n",
    "  x1 {int, array-like}: The number of successses in n trials for the first independent sample\n",
    "  x2 {int, array-like}: The number of successses in n trials for the second independent sample\n",
    "  n1 {int, array-like}: The number of trials or observations for the first sample\n",
    "  n2 {int, array-like}: The number of trials or observations for the second sample\n",
    "\n",
    "  Returns\n",
    "  -------\n",
    "  Lowerbound {float}: Lowerbound of the confidence interval\n",
    "  Upperbound {float}: Upperbound of the confidence interval\n",
    "  \n",
    "  '''\n",
    "  p1 = x1.sum() / n1.sum()\n",
    "  n1 = n1.sum()                    \n",
    "  p2 = x2.sum() / n2.sum()\n",
    "  n2 = n2.sum()\n",
    "  p_diff = p2 - p1\n",
    "  standard_error_pooled = np.sqrt(((p1 * (1- p1))/n1 + (p2 * (1- p2))/n2 )) \n",
    "  z_critical = stats.norm.ppf(q = 0.975)\n",
    "  margin_of_error = standard_error_pooled * z_critical\n",
    "  upperbound = p_diff + margin_of_error\n",
    "  lowerbound = p_diff - margin_of_error\n",
    "  print(f'The confidence interval is between {lowerbound:.{4}f} and {upperbound:.{4}f}')\n",
    "\n",
    "\n",
    "confidence_interval(data.Clicks_ctl, data.Clicks_exp, data.Pageviews_ctl, data.Pageviews_exp)"
   ]
  },
  {
   "cell_type": "markdown",
   "metadata": {
    "id": "e_0VxqPe2VdH"
   },
   "source": [
    "It is estimated with 95% confidence that the true difference between the control and experiment groups lies between -0.12% and 0.14%. Since this interval includes zero, we can conclude that the difference between these two groups is not statistically significant. This is expected because clicks happened before the change was seen (or not)."
   ]
  },
  {
   "cell_type": "markdown",
   "metadata": {
    "id": "ltY1LlFbaoRj"
   },
   "source": [
    "## **Preparing the Metrics**"
   ]
  },
  {
   "cell_type": "markdown",
   "metadata": {
    "id": "1rDV3mFN8LcL"
   },
   "source": [
    "**Note:** The dataset has observations of pageviews and clicks for 37 days, while records for enrollments and payments were for 23 days. Thus, when working with enrollments and payments, only the corresponding records of pageviews and clicks were used in calculations."
   ]
  },
  {
   "cell_type": "code",
   "execution_count": 5,
   "metadata": {
    "id": "TovSL8EmGr_l"
   },
   "outputs": [],
   "source": [
    "data['ctr_control']= data['Clicks_ctl'] / data['Pageviews_ctl']\n",
    "data['ctr_experiment']= data['Clicks_exp'] / data['Pageviews_exp']"
   ]
  },
  {
   "cell_type": "code",
   "execution_count": 6,
   "metadata": {
    "id": "M7f1iYEeOklB"
   },
   "outputs": [],
   "source": [
    "df = data[data.Enrollments_ctl.notnull()]\n",
    "data2 = df.copy()"
   ]
  },
  {
   "cell_type": "code",
   "execution_count": 7,
   "metadata": {
    "id": "mNFAguniOwGa"
   },
   "outputs": [],
   "source": [
    "data2['retention_control']= data2['Payments_ctl'] / data2['Enrollments_ctl']\n",
    "data2['retention_experiment']= data2['Payments_exp'] / data2['Enrollments_exp']\n",
    "\n",
    "data2['GrossConversion_control']= data2['Enrollments_ctl'] / data2['Clicks_ctl']\n",
    "data2['GrossConversion_experiment']= data2['Enrollments_exp'] / data2['Clicks_exp']\n",
    "\n",
    "data2['NetConversion_control']= data2['Payments_ctl'] / data2['Clicks_ctl']\n",
    "data2['NetConversion_experiment']= data2['Payments_exp'] / data2['Clicks_exp']"
   ]
  },
  {
   "cell_type": "markdown",
   "metadata": {
    "id": "y_hlol0vEK8N"
   },
   "source": [
    "## **Conducting Z-test**"
   ]
  },
  {
   "cell_type": "code",
   "execution_count": 8,
   "metadata": {
    "colab": {
     "base_uri": "https://localhost:8080/"
    },
    "id": "19wPMnmjFT-Y",
    "outputId": "039f55cf-5420-4f2f-cde1-8a3c450b43e5"
   },
   "outputs": [
    {
     "data": {
      "text/html": [
       "<div>\n",
       "<style scoped>\n",
       "    .dataframe tbody tr th:only-of-type {\n",
       "        vertical-align: middle;\n",
       "    }\n",
       "\n",
       "    .dataframe tbody tr th {\n",
       "        vertical-align: top;\n",
       "    }\n",
       "\n",
       "    .dataframe thead th {\n",
       "        text-align: right;\n",
       "    }\n",
       "</style>\n",
       "<table border=\"1\" class=\"dataframe\">\n",
       "  <thead>\n",
       "    <tr style=\"text-align: right;\">\n",
       "      <th></th>\n",
       "      <th>Metric</th>\n",
       "      <th>z-statistic</th>\n",
       "      <th>p_value</th>\n",
       "      <th>Significance</th>\n",
       "    </tr>\n",
       "  </thead>\n",
       "  <tbody>\n",
       "    <tr>\n",
       "      <th>0</th>\n",
       "      <td>Click-through Rate</td>\n",
       "      <td>-0.086</td>\n",
       "      <td>0.932</td>\n",
       "      <td>Not significant</td>\n",
       "    </tr>\n",
       "    <tr>\n",
       "      <th>1</th>\n",
       "      <td>Retention</td>\n",
       "      <td>-2.651</td>\n",
       "      <td>0.008</td>\n",
       "      <td>Significant</td>\n",
       "    </tr>\n",
       "    <tr>\n",
       "      <th>2</th>\n",
       "      <td>Gross conversion</td>\n",
       "      <td>4.702</td>\n",
       "      <td>0.000</td>\n",
       "      <td>Significant</td>\n",
       "    </tr>\n",
       "    <tr>\n",
       "      <th>3</th>\n",
       "      <td>Net conversion</td>\n",
       "      <td>1.419</td>\n",
       "      <td>0.156</td>\n",
       "      <td>Not significant</td>\n",
       "    </tr>\n",
       "  </tbody>\n",
       "</table>\n",
       "</div>"
      ],
      "text/plain": [
       "               Metric  z-statistic  p_value     Significance\n",
       "0  Click-through Rate       -0.086    0.932  Not significant\n",
       "1           Retention       -2.651    0.008      Significant\n",
       "2    Gross conversion        4.702    0.000      Significant\n",
       "3      Net conversion        1.419    0.156  Not significant"
      ]
     },
     "execution_count": 8,
     "metadata": {},
     "output_type": "execute_result"
    }
   ],
   "source": [
    "Metric = {\n",
    "          \"Click-through Rate\": [data['Clicks_ctl'], data['Clicks_exp'], data['Pageviews_ctl'], data['Pageviews_exp']], \n",
    "          \"Retention\": [data2['Payments_ctl'], data2['Payments_exp'], data2['Enrollments_ctl'], data2['Enrollments_exp']],\n",
    "          \"Gross conversion\": [data2['Enrollments_ctl'],  data2['Enrollments_exp'], data2['Clicks_ctl'], data2['Clicks_exp']],\n",
    "          \"Net conversion\": [data2['Payments_ctl'], data2['Payments_exp'], data2['Clicks_ctl'], data2['Clicks_exp']]\n",
    "         }\n",
    "\n",
    "\n",
    "\n",
    "data_list= []\n",
    "for key, value in Metric.items():\n",
    "    successes = np.array([Metric[key][0].sum(), Metric[key][1].sum()])\n",
    "    total_trials = np.array([Metric[key][2].sum(), Metric[key][3].sum()])\n",
    "    z_stat, p_val = proportions_ztest(successes, total_trials, value = 0, alternative='two-sided')\n",
    "    if p_val > 0.05:\n",
    "        result = \"Not significant\"\n",
    "    else:\n",
    "        result = \"Significant\"\n",
    "    data_list.append({\"Metric\": key, \"z-statistic\": round(z_stat, 3), \"p_value\": round(p_val, 3), \"Significance\": result})\n",
    "    df1 = pd.DataFrame(data_list)\n",
    "df1     "
   ]
  },
  {
   "cell_type": "markdown",
   "metadata": {
    "id": "8J5ZOg3_QNDw"
   },
   "source": [
    "The results from the Table confirms that there is no significant difference in the click-through rates between those who saw the Free Trial Screener and those who did not. In addition, there is no significant difference in the net conversion. However, there is a significant difference in the gross conversion and retention rates between those who saw the Free Trial Screener and those who did not."
   ]
  },
  {
   "cell_type": "markdown",
   "metadata": {
    "id": "o211UKdRFT_l"
   },
   "source": [
    "## **Conducting T-Test**"
   ]
  },
  {
   "cell_type": "code",
   "execution_count": 9,
   "metadata": {
    "colab": {
     "base_uri": "https://localhost:8080/"
    },
    "id": "_n7YBSKVJxFe",
    "outputId": "09599e58-7804-42fa-ef2a-e444616b5be0"
   },
   "outputs": [
    {
     "data": {
      "text/html": [
       "<div>\n",
       "<style scoped>\n",
       "    .dataframe tbody tr th:only-of-type {\n",
       "        vertical-align: middle;\n",
       "    }\n",
       "\n",
       "    .dataframe tbody tr th {\n",
       "        vertical-align: top;\n",
       "    }\n",
       "\n",
       "    .dataframe thead th {\n",
       "        text-align: right;\n",
       "    }\n",
       "</style>\n",
       "<table border=\"1\" class=\"dataframe\">\n",
       "  <thead>\n",
       "    <tr style=\"text-align: right;\">\n",
       "      <th></th>\n",
       "      <th>Metric</th>\n",
       "      <th>t-statistic</th>\n",
       "      <th>p_value</th>\n",
       "      <th>Significance</th>\n",
       "    </tr>\n",
       "  </thead>\n",
       "  <tbody>\n",
       "    <tr>\n",
       "      <th>0</th>\n",
       "      <td>Click-through Rate</td>\n",
       "      <td>-0.083</td>\n",
       "      <td>0.934</td>\n",
       "      <td>Not significant</td>\n",
       "    </tr>\n",
       "    <tr>\n",
       "      <th>1</th>\n",
       "      <td>Retention</td>\n",
       "      <td>-1.008</td>\n",
       "      <td>0.319</td>\n",
       "      <td>Not significant</td>\n",
       "    </tr>\n",
       "    <tr>\n",
       "      <th>2</th>\n",
       "      <td>Gross conversion</td>\n",
       "      <td>1.540</td>\n",
       "      <td>0.131</td>\n",
       "      <td>Not significant</td>\n",
       "    </tr>\n",
       "    <tr>\n",
       "      <th>3</th>\n",
       "      <td>Net conversion</td>\n",
       "      <td>0.539</td>\n",
       "      <td>0.593</td>\n",
       "      <td>Not significant</td>\n",
       "    </tr>\n",
       "  </tbody>\n",
       "</table>\n",
       "</div>"
      ],
      "text/plain": [
       "               Metric  t-statistic  p_value     Significance\n",
       "0  Click-through Rate       -0.083    0.934  Not significant\n",
       "1           Retention       -1.008    0.319  Not significant\n",
       "2    Gross conversion        1.540    0.131  Not significant\n",
       "3      Net conversion        0.539    0.593  Not significant"
      ]
     },
     "execution_count": 9,
     "metadata": {},
     "output_type": "execute_result"
    }
   ],
   "source": [
    "Metric = {\"Click-through Rate\": [data.ctr_control, data.ctr_experiment], \n",
    "          \"Retention\": [data2.retention_control, data2.retention_experiment], \n",
    "          \"Gross conversion\": [data2.GrossConversion_control, data2.GrossConversion_experiment],\n",
    "          \"Net conversion\": [data2.NetConversion_control, data2.NetConversion_experiment]}\n",
    "\n",
    "data_list= []\n",
    "for key, value in Metric.items():\n",
    "    t_stat, p_val = stats.ttest_ind(Metric[key][0], Metric[key][1])\n",
    "    if p_val > 0.05:\n",
    "        result = \"Not significant\"\n",
    "    else:\n",
    "        result = \"Significant\"\n",
    "    data_list.append({\"Metric\": key, \"t-statistic\": round(t_stat, 3), \"p_value\": round(p_val, 3), \"Significance\": result})\n",
    "    df2 = pd.DataFrame(data_list)\n",
    "df2     "
   ]
  },
  {
   "cell_type": "markdown",
   "metadata": {
    "id": "03_PWWR8Yh9G"
   },
   "source": [
    "There is no significant difference observed in any of the metrics."
   ]
  },
  {
   "cell_type": "markdown",
   "metadata": {
    "id": "iWpnEgDxk3kh"
   },
   "source": [
    "## **Observations**"
   ]
  },
  {
   "cell_type": "markdown",
   "metadata": {
    "id": "fsNVFbCzomGR"
   },
   "source": [
    "While the z-test recorded statistical significance for gross conversion and retention rates, these metrics were not significant under t-test.\n",
    "The difference in the results of these two methods could be due to the fact that when working with large sample sizes, the normal distribution curve does a good job of approximating the distribution of a sample statistic but becomes inefficient in approximating the distribution of the same statistic when these are computed from small sample sizes (n < 30). The sample size for computing retention and gross conversion metrics was 23."
   ]
  },
  {
   "cell_type": "markdown",
   "metadata": {
    "id": "CL8cDE14LK3i"
   },
   "source": [
    "## **Significance of metrics under different confidence levels (using t-test results)**"
   ]
  },
  {
   "cell_type": "code",
   "execution_count": 10,
   "metadata": {
    "colab": {
     "base_uri": "https://localhost:8080/"
    },
    "id": "0FZHFmlLF9Wr",
    "outputId": "b33bd923-19c8-46fd-8712-0ea1fada89c0"
   },
   "outputs": [
    {
     "data": {
      "text/html": [
       "<div>\n",
       "<style scoped>\n",
       "    .dataframe tbody tr th:only-of-type {\n",
       "        vertical-align: middle;\n",
       "    }\n",
       "\n",
       "    .dataframe tbody tr th {\n",
       "        vertical-align: top;\n",
       "    }\n",
       "\n",
       "    .dataframe thead th {\n",
       "        text-align: right;\n",
       "    }\n",
       "</style>\n",
       "<table border=\"1\" class=\"dataframe\">\n",
       "  <thead>\n",
       "    <tr style=\"text-align: right;\">\n",
       "      <th></th>\n",
       "      <th>Metric</th>\n",
       "      <th>alpha</th>\n",
       "      <th>p_value</th>\n",
       "      <th>Statistical Significance</th>\n",
       "    </tr>\n",
       "  </thead>\n",
       "  <tbody>\n",
       "    <tr>\n",
       "      <th>0</th>\n",
       "      <td>Net conversion</td>\n",
       "      <td>0.40</td>\n",
       "      <td>0.593</td>\n",
       "      <td>Not significant</td>\n",
       "    </tr>\n",
       "    <tr>\n",
       "      <th>1</th>\n",
       "      <td>Gross conversion</td>\n",
       "      <td>0.40</td>\n",
       "      <td>0.131</td>\n",
       "      <td>Significant</td>\n",
       "    </tr>\n",
       "    <tr>\n",
       "      <th>2</th>\n",
       "      <td>Retention</td>\n",
       "      <td>0.40</td>\n",
       "      <td>0.319</td>\n",
       "      <td>Significant</td>\n",
       "    </tr>\n",
       "    <tr>\n",
       "      <th>3</th>\n",
       "      <td>Net conversion</td>\n",
       "      <td>0.10</td>\n",
       "      <td>0.593</td>\n",
       "      <td>Not significant</td>\n",
       "    </tr>\n",
       "    <tr>\n",
       "      <th>4</th>\n",
       "      <td>Gross conversion</td>\n",
       "      <td>0.10</td>\n",
       "      <td>0.131</td>\n",
       "      <td>Not significant</td>\n",
       "    </tr>\n",
       "    <tr>\n",
       "      <th>5</th>\n",
       "      <td>Retention</td>\n",
       "      <td>0.10</td>\n",
       "      <td>0.319</td>\n",
       "      <td>Not significant</td>\n",
       "    </tr>\n",
       "    <tr>\n",
       "      <th>6</th>\n",
       "      <td>Net conversion</td>\n",
       "      <td>0.05</td>\n",
       "      <td>0.593</td>\n",
       "      <td>Not significant</td>\n",
       "    </tr>\n",
       "    <tr>\n",
       "      <th>7</th>\n",
       "      <td>Gross conversion</td>\n",
       "      <td>0.05</td>\n",
       "      <td>0.131</td>\n",
       "      <td>Not significant</td>\n",
       "    </tr>\n",
       "    <tr>\n",
       "      <th>8</th>\n",
       "      <td>Retention</td>\n",
       "      <td>0.05</td>\n",
       "      <td>0.319</td>\n",
       "      <td>Not significant</td>\n",
       "    </tr>\n",
       "    <tr>\n",
       "      <th>9</th>\n",
       "      <td>Net conversion</td>\n",
       "      <td>0.01</td>\n",
       "      <td>0.593</td>\n",
       "      <td>Not significant</td>\n",
       "    </tr>\n",
       "    <tr>\n",
       "      <th>10</th>\n",
       "      <td>Gross conversion</td>\n",
       "      <td>0.01</td>\n",
       "      <td>0.131</td>\n",
       "      <td>Not significant</td>\n",
       "    </tr>\n",
       "    <tr>\n",
       "      <th>11</th>\n",
       "      <td>Retention</td>\n",
       "      <td>0.01</td>\n",
       "      <td>0.319</td>\n",
       "      <td>Not significant</td>\n",
       "    </tr>\n",
       "  </tbody>\n",
       "</table>\n",
       "</div>"
      ],
      "text/plain": [
       "              Metric  alpha  p_value Statistical Significance\n",
       "0     Net conversion   0.40    0.593          Not significant\n",
       "1   Gross conversion   0.40    0.131              Significant\n",
       "2          Retention   0.40    0.319              Significant\n",
       "3     Net conversion   0.10    0.593          Not significant\n",
       "4   Gross conversion   0.10    0.131          Not significant\n",
       "5          Retention   0.10    0.319          Not significant\n",
       "6     Net conversion   0.05    0.593          Not significant\n",
       "7   Gross conversion   0.05    0.131          Not significant\n",
       "8          Retention   0.05    0.319          Not significant\n",
       "9     Net conversion   0.01    0.593          Not significant\n",
       "10  Gross conversion   0.01    0.131          Not significant\n",
       "11         Retention   0.01    0.319          Not significant"
      ]
     },
     "execution_count": 10,
     "metadata": {},
     "output_type": "execute_result"
    }
   ],
   "source": [
    "alpha = [0.4, 0.1, 0.05, 0.01]\n",
    "\n",
    "p_value = {\"Net conversion\": 0.593, \"Gross conversion\": 0.131, \"Retention\": 0.319}\n",
    "\n",
    "data= []\n",
    "for i in alpha:\n",
    "    for key, value in p_value.items():\n",
    "        if value > i:\n",
    "            result= \"Not significant\"\n",
    "        else:\n",
    "            result= \"Significant\"\n",
    "        data.append({\"Metric\": key, \"alpha\": i, \"p_value\": value, \"Statistical Significance\": result})\n",
    "        df= pd.DataFrame(data)\n",
    "df     "
   ]
  },
  {
   "cell_type": "markdown",
   "metadata": {
    "id": "viigQXy_yDzX"
   },
   "source": [
    "Conclusions about the significance of net conversion do not differ under the different confidence levels because the p-value, 0.593, is very large compared to the different levels of significance. This means that there is a 59.3% probability of any difference observed being completely random and not due to the change in the experiment."
   ]
  },
  {
   "cell_type": "markdown",
   "metadata": {
    "id": "b9ikDbs7QAJK"
   },
   "source": [
    "Whereas, at 60% confidence level, retention rate and gross conversion are statistically significant. However, it is important to note that setting the alpha level at 40% means there is large chance that we might incorrectly reject the null hypothesis, meaning that we conclude there is a change in these metrics when there is really not one, which is a waste of resources for Udacity! "
   ]
  },
  {
   "cell_type": "markdown",
   "metadata": {
    "id": "2Bqiuyd2lW4g"
   },
   "source": [
    "## **Conclusion**\n",
    "\n",
    "Based on the findings, there is no sufficient evidence to conclude that the Free Trial Screener will increase the likelihood of students to continue past the free trial and eventually make payments or complete the course."
   ]
  },
  {
   "cell_type": "markdown",
   "metadata": {
    "id": "9GplRFCs3enK"
   },
   "source": [
    "## **Recommendation**\n",
    "\n",
    "Do not launch the change on the website."
   ]
  }
 ],
 "metadata": {
  "colab": {
   "name": "125.ipynb",
   "provenance": []
  },
  "kernelspec": {
   "display_name": "Python 3",
   "language": "python",
   "name": "python3"
  },
  "language_info": {
   "codemirror_mode": {
    "name": "ipython",
    "version": 3
   },
   "file_extension": ".py",
   "mimetype": "text/x-python",
   "name": "python",
   "nbconvert_exporter": "python",
   "pygments_lexer": "ipython3",
   "version": "3.8.10"
  }
 },
 "nbformat": 4,
 "nbformat_minor": 1
}
